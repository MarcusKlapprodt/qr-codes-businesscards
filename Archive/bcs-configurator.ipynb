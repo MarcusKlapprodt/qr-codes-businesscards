{
 "cells": [
  {
   "cell_type": "code",
   "execution_count": 1,
   "id": "4e19f142-953f-4166-bb36-a986ba2caf64",
   "metadata": {},
   "outputs": [],
   "source": [
    "from dataclasses import dataclass\n",
    "from reportlab.pdfgen.canvas import Canvas\n",
    "from reportlab.lib.units import mm\n",
    "# from reportlab_qrcode import qr_draw\n",
    "from reportlab_qrcode import QRCodeImage\n",
    "import pandas as pd"
   ]
  },
  {
   "cell_type": "code",
   "execution_count": 2,
   "id": "1db0d2e1-431a-4ba8-8626-d91ac48b297e",
   "metadata": {},
   "outputs": [],
   "source": [
    "@dataclass\n",
    "class Address:\n",
    "        address1: str = \"\"\n",
    "        address2: str = \"\"\n",
    "        zipcode: str = \"\"\n",
    "        city: str = \"\"\n",
    "        state: str = \"\"\n",
    "        country: str = \"\"\n",
    "\n",
    "@dataclass\n",
    "class Company:\n",
    "        cname: str\n",
    "        website: str = \"\"\n",
    "\n",
    "@dataclass    \n",
    "class Person:\n",
    "        fname: str\n",
    "        lname: str\n",
    "        salutation: str  = \"\"\n",
    "        tel: str = \"\"\n",
    "        mobile: str = \"\"\n",
    "        email: str = \"\"\n",
    "        jobposition: str = \"\"\n",
    "\n",
    "        def greet(self):\n",
    "            print(\"Hello \" + self.fname + \" \" + self.lname)\n",
    "\n",
    "@dataclass\n",
    "class Card:\n",
    "    person: Person\n",
    "    company: Company\n",
    "    address: Address\n",
    "    cardqrcode: str = \"\""
   ]
  },
  {
   "cell_type": "markdown",
   "id": "6bcf84b4-65cf-40bd-8785-9bee6c65c542",
   "metadata": {},
   "source": [
    "## Create Business Card PDF"
   ]
  },
  {
   "cell_type": "code",
   "execution_count": 3,
   "id": "3e985e33-5d17-4347-9d44-6fef68bdc243",
   "metadata": {},
   "outputs": [],
   "source": [
    "def create_one_pdf(card):\n",
    "    # define canvas size\n",
    "    canvas = Canvas(\"mycard.pdf\", pagesize=(87.0*mm,57.0*mm))\n",
    "    \n",
    "    # Write Name as Headline\n",
    "    canvas.setFont('Helvetica-Bold', 12)\n",
    "    canvas.drawString(4*mm, 45*mm, f'{card.person.fname} {card.person.lname}')\n",
    "\n",
    "    # Job position\n",
    "    canvas.setFont('Helvetica', 8)\n",
    "    canvas.drawString(4*mm, 40*mm, card.person.jobposition)\n",
    "\n",
    "    # Address Block\n",
    "    canvas.setFont('Helvetica', 8)\n",
    "    canvas.drawString(4*mm, 28*mm, card.company.cname)\n",
    "    canvas.drawString(4*mm, 24*mm, card.address.address1)\n",
    "    # if card.address.address2 != \"\" or \"\":\n",
    "        # canvas.drawString(4*mm, *mm, card.address.address2)\n",
    "    canvas.drawString(4*mm, 20*mm, f'{card.address.zipcode}, {card.address.city}, {card.address.state}')\n",
    "    canvas.drawString(4*mm, 16*mm, card.address.country)\n",
    "    canvas.drawString(4*mm, 12*mm, card.person.email)\n",
    "    if card.person.tel != \"\":\n",
    "        canvas.drawString(4*mm, 8*mm, f'tel.: {card.person.tel}')\n",
    "    if card.person.mobile != \"\":\n",
    "        canvas.drawString(4*mm, 4*mm, f'mobile: {card.person.mobile}')\n",
    "\n",
    "    ## Create the QR Code \n",
    "    # qr_draw(canvas, \"Hello world\", x=\"55mm\", y=\"23mm\", size=\"30mm\")\n",
    "    qr = QRCodeImage('Some data here', size=30 * mm)\n",
    "    qr.drawOn(canvas, 55*mm, 23*mm, 0)\n",
    "\n",
    "    # Finalize Business Card PDF\n",
    "    canvas.showPage()\n",
    "    canvas.save()"
   ]
  },
  {
   "cell_type": "code",
   "execution_count": 11,
   "id": "6cc1dce7-3f0b-4b46-b5f9-73ab4aadd75e",
   "metadata": {},
   "outputs": [],
   "source": [
    "def create_pdf_body(canvas, card):\n",
    "    \n",
    "    # Write Name as Headline\n",
    "    canvas.setFont('Helvetica-Bold', 12)\n",
    "    canvas.drawString(4*mm, 45*mm, f'{card.person.fname} {card.person.lname}')\n",
    "\n",
    "    # Job position\n",
    "    canvas.setFont('Helvetica', 8)\n",
    "    canvas.drawString(4*mm, 40*mm, card.person.jobposition)\n",
    "\n",
    "    # Address Block\n",
    "    canvas.setFont('Helvetica', 8)\n",
    "    canvas.drawString(4*mm, 28*mm, card.company.cname)\n",
    "    canvas.drawString(4*mm, 24*mm, card.address.address1)\n",
    "    # if card.address.address2 != \"\" or \"\":\n",
    "        # canvas.drawString(4*mm, *mm, card.address.address2)\n",
    "    canvas.drawString(4*mm, 20*mm, f'{card.address.zipcode}, {card.address.city}, {card.address.state}')\n",
    "    canvas.drawString(4*mm, 16*mm, card.address.country)\n",
    "    canvas.drawString(4*mm, 12*mm, card.person.email)\n",
    "    if card.person.tel != \"\":\n",
    "        canvas.drawString(4*mm, 8*mm, f'tel.: {card.person.tel}')\n",
    "    if card.person.mobile != \"\":\n",
    "        canvas.drawString(4*mm, 4*mm, f'mobile: {card.person.mobile}')\n",
    "\n",
    "    ## Create the QR Code \n",
    "    # qr_draw(canvas, card.cardqrcode, x=\"55mm\", y=\"23mm\", size=\"30mm\")\n",
    "    qr = QRCodeImage(card.cardqrcode, size=30 * mm)\n",
    "    qr.drawOn(canvas, 55*mm, 23*mm, 0)"
   ]
  },
  {
   "cell_type": "markdown",
   "id": "62206db9-17c8-40a7-be50-17ae11ed041b",
   "metadata": {},
   "source": [
    "## Get Data from Excel File"
   ]
  },
  {
   "cell_type": "code",
   "execution_count": 5,
   "id": "4f58e689-90f5-4abf-8f2b-fc84e3a59d89",
   "metadata": {},
   "outputs": [],
   "source": [
    "def fetch_excelfile(file):\n",
    "    with open(file):\n",
    "        cards_file = pd.read_excel(file).fillna(\"\")\n",
    "    return cards_file"
   ]
  },
  {
   "cell_type": "code",
   "execution_count": 6,
   "id": "8e951d83-a05a-4f45-9600-963c25494569",
   "metadata": {},
   "outputs": [],
   "source": [
    "def create_company_instance(pandas_row):\n",
    "    pdr = pandas_row\n",
    "    return Company(pdr[\"Organization\"], pdr[\"Website\"])\n",
    "\n",
    "def create_address_instance(pandas_row):\n",
    "    pdr = pandas_row\n",
    "    return Address(pdr[\"Street\"], pdr[\"Street 2\"], pdr[\"Zip Code\"], pdr[\"City\"], pdr[\"State\"], pdr[\"Country\"])\n",
    "\n",
    "def create_person_instance(pandas_row):\n",
    "    pdr = pandas_row\n",
    "    return Person(pdr[\"First Name\"], pdr[\"Last Name\"], pdr[\"Title\"], pdr[\"Phone\"], pdr[\"Mobile\"], pdr[\"Email\"], pdr[\"Position\"])"
   ]
  },
  {
   "cell_type": "markdown",
   "id": "6b39a4b0-fb18-4d31-93f6-ee13b09ec1cb",
   "metadata": {},
   "source": [
    "# Create final PDF File with all Business Cards"
   ]
  },
  {
   "cell_type": "code",
   "execution_count": 7,
   "id": "75105c84-6740-4611-a8cc-90bd3a383d58",
   "metadata": {},
   "outputs": [],
   "source": [
    "def finalize_bc_pdf(excel_file):\n",
    "    # Get Excel File and create a Pandas Data Frame\n",
    "    e_file = fetch_excelfile(excel_file)\n",
    "\n",
    "    # Define a Canvas for the Business-Cards-PDF\n",
    "    canvas = Canvas(\"mycards.pdf\", pagesize=(87.0*mm,57.0*mm))\n",
    "    \n",
    "    for key, row in e_file.iterrows():\n",
    "        # Create Cards Instances\n",
    "        comp1 = create_company_instance(row)\n",
    "        add1 = create_address_instance(row)\n",
    "        pers1 = create_person_instance(row)\n",
    "\n",
    "        # Create Card Instance\n",
    "        card = Card(pers1,comp1,add1,row[\"Business Card URL\"])\n",
    "\n",
    "        # Create PDF Page\n",
    "        create_pdf_body(canvas, card)\n",
    "\n",
    "        # End of page\n",
    "        canvas.showPage()\n",
    "\n",
    "    canvas.save()\n",
    "        \n",
    "    return None\n",
    "    "
   ]
  },
  {
   "cell_type": "markdown",
   "id": "dfe5132e-3cc7-4215-9a89-024f53c32851",
   "metadata": {},
   "source": [
    "## Test Cases"
   ]
  },
  {
   "cell_type": "code",
   "execution_count": 12,
   "id": "0474c470-2514-4b4b-aff9-d31340f238a7",
   "metadata": {},
   "outputs": [],
   "source": [
    "file = finalize_bc_pdf(\"Business-Cards-List.xlsx\")"
   ]
  }
 ],
 "metadata": {
  "kernelspec": {
   "display_name": "Python 3 (ipykernel)",
   "language": "python",
   "name": "python3"
  },
  "language_info": {
   "codemirror_mode": {
    "name": "ipython",
    "version": 3
   },
   "file_extension": ".py",
   "mimetype": "text/x-python",
   "name": "python",
   "nbconvert_exporter": "python",
   "pygments_lexer": "ipython3",
   "version": "3.11.0rc1"
  }
 },
 "nbformat": 4,
 "nbformat_minor": 5
}
