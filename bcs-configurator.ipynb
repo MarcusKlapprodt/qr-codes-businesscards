{
 "cells": [
  {
   "cell_type": "code",
   "execution_count": 20,
   "id": "4e19f142-953f-4166-bb36-a986ba2caf64",
   "metadata": {},
   "outputs": [],
   "source": [
    "from dataclasses import dataclass\n",
    "from reportlab.pdfgen.canvas import Canvas\n",
    "from reportlab.lib.units import mm"
   ]
  },
  {
   "cell_type": "code",
   "execution_count": 2,
   "id": "23d24e4e-7e09-4100-a332-832c6a26545c",
   "metadata": {},
   "outputs": [],
   "source": [
    "canvas = Canvas(\"mycard.pdf\", pagesize=(87.0*mm,57.0*mm))"
   ]
  },
  {
   "cell_type": "code",
   "execution_count": 3,
   "id": "ef95101e-ea7b-4b4a-9425-eda46066ad66",
   "metadata": {},
   "outputs": [],
   "source": [
    "canvas.drawString(2, 2, \"Hello, World!\")"
   ]
  },
  {
   "cell_type": "code",
   "execution_count": 4,
   "id": "3a59c110-5f44-400a-ba82-dd89b7777dfa",
   "metadata": {},
   "outputs": [],
   "source": [
    "# canvas.save()"
   ]
  },
  {
   "cell_type": "code",
   "execution_count": 58,
   "id": "1db0d2e1-431a-4ba8-8626-d91ac48b297e",
   "metadata": {},
   "outputs": [],
   "source": [
    "@dataclass\n",
    "class Address:\n",
    "        address1: str = None\n",
    "        address2: str = None\n",
    "        city: str = None\n",
    "        zipcode: str = None\n",
    "        country: str = None\n",
    "\n",
    "@dataclass\n",
    "class Company:\n",
    "        cname: str\n",
    "        website: str = None\n",
    "\n",
    "@dataclass    \n",
    "class Person:\n",
    "        fname: str\n",
    "        lname: str\n",
    "        salutation: str  = None\n",
    "        tel: str = None\n",
    "        mobile: str = None\n",
    "        email: str = None\n",
    "        jobposition: str = None\n",
    "\n",
    "        def greet(self):\n",
    "            print(\"Hello \" + self.fname + \" \" + self.lname)\n",
    "\n",
    "@dataclass\n",
    "class Card:\n",
    "    person: Person\n",
    "    company: Company\n",
    "    address: Address"
   ]
  },
  {
   "cell_type": "code",
   "execution_count": 59,
   "id": "5771e87a-ce98-4437-bc01-bdc845106334",
   "metadata": {},
   "outputs": [],
   "source": [
    "company = Company(\"snapADDY\")"
   ]
  },
  {
   "cell_type": "code",
   "execution_count": 63,
   "id": "04adf9fc-5689-4dad-95ab-76fd418ed00b",
   "metadata": {},
   "outputs": [],
   "source": [
    "company.website"
   ]
  }
 ],
 "metadata": {
  "kernelspec": {
   "display_name": "Python 3 (ipykernel)",
   "language": "python",
   "name": "python3"
  },
  "language_info": {
   "codemirror_mode": {
    "name": "ipython",
    "version": 3
   },
   "file_extension": ".py",
   "mimetype": "text/x-python",
   "name": "python",
   "nbconvert_exporter": "python",
   "pygments_lexer": "ipython3",
   "version": "3.12.4"
  }
 },
 "nbformat": 4,
 "nbformat_minor": 5
}
