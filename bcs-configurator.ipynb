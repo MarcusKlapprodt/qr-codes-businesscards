{
 "cells": [
  {
   "cell_type": "code",
   "execution_count": 24,
   "id": "4e19f142-953f-4166-bb36-a986ba2caf64",
   "metadata": {},
   "outputs": [],
   "source": [
    "from reportlab.pdfgen.canvas import Canvas\n",
    "from reportlab.lib.units import mm"
   ]
  },
  {
   "cell_type": "code",
   "execution_count": 25,
   "id": "23d24e4e-7e09-4100-a332-832c6a26545c",
   "metadata": {},
   "outputs": [],
   "source": [
    "canvas = Canvas(\"mycard.pdf\", pagesize=(87.0*mm,57.0*mm))"
   ]
  },
  {
   "cell_type": "code",
   "execution_count": 26,
   "id": "ef95101e-ea7b-4b4a-9425-eda46066ad66",
   "metadata": {},
   "outputs": [],
   "source": [
    "canvas.drawString(2, 2, \"Hello, World!\")"
   ]
  },
  {
   "cell_type": "code",
   "execution_count": 40,
   "id": "3a59c110-5f44-400a-ba82-dd89b7777dfa",
   "metadata": {},
   "outputs": [],
   "source": [
    "# canvas.save()"
   ]
  },
  {
   "cell_type": "code",
   "execution_count": 36,
   "id": "1db0d2e1-431a-4ba8-8626-d91ac48b297e",
   "metadata": {},
   "outputs": [],
   "source": [
    "class BusinessCard:\n",
    "    def __init__(self, name):\n",
    "        self.name = name\n",
    "\n",
    "    def greet(self):\n",
    "        print(\"Hello \" + self.name)"
   ]
  },
  {
   "cell_type": "code",
   "execution_count": 37,
   "id": "5771e87a-ce98-4437-bc01-bdc845106334",
   "metadata": {},
   "outputs": [],
   "source": [
    "mcard = BusinessCard(\"Alice\")"
   ]
  },
  {
   "cell_type": "code",
   "execution_count": 39,
   "id": "04adf9fc-5689-4dad-95ab-76fd418ed00b",
   "metadata": {},
   "outputs": [
    {
     "name": "stdout",
     "output_type": "stream",
     "text": [
      "Hello Alice\n"
     ]
    }
   ],
   "source": [
    "mcard.greet()"
   ]
  }
 ],
 "metadata": {
  "kernelspec": {
   "display_name": "Python 3 (ipykernel)",
   "language": "python",
   "name": "python3"
  },
  "language_info": {
   "codemirror_mode": {
    "name": "ipython",
    "version": 3
   },
   "file_extension": ".py",
   "mimetype": "text/x-python",
   "name": "python",
   "nbconvert_exporter": "python",
   "pygments_lexer": "ipython3",
   "version": "3.12.4"
  }
 },
 "nbformat": 4,
 "nbformat_minor": 5
}
