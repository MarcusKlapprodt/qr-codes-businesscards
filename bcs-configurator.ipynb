{
 "cells": [
  {
   "cell_type": "code",
   "execution_count": 1,
   "id": "4e19f142-953f-4166-bb36-a986ba2caf64",
   "metadata": {},
   "outputs": [],
   "source": [
    "from dataclasses import dataclass\n",
    "from reportlab.pdfgen.canvas import Canvas\n",
    "from reportlab.lib.units import mm"
   ]
  },
  {
   "cell_type": "code",
   "execution_count": 2,
   "id": "1db0d2e1-431a-4ba8-8626-d91ac48b297e",
   "metadata": {},
   "outputs": [],
   "source": [
    "@dataclass\n",
    "class Address:\n",
    "        address1: str = None\n",
    "        address2: str = None\n",
    "        zipcode: str = None\n",
    "        city: str = None\n",
    "        state: str = None\n",
    "        country: str = None\n",
    "\n",
    "@dataclass\n",
    "class Company:\n",
    "        cname: str\n",
    "        website: str = None\n",
    "\n",
    "@dataclass    \n",
    "class Person:\n",
    "        fname: str\n",
    "        lname: str\n",
    "        salutation: str  = None\n",
    "        tel: str = None\n",
    "        mobile: str = None\n",
    "        email: str = None\n",
    "        jobposition: str = None\n",
    "\n",
    "        def greet(self):\n",
    "            print(\"Hello \" + self.fname + \" \" + self.lname)\n",
    "\n",
    "@dataclass\n",
    "class Card:\n",
    "    person: Person\n",
    "    company: Company\n",
    "    address: Address"
   ]
  },
  {
   "cell_type": "markdown",
   "id": "6bcf84b4-65cf-40bd-8785-9bee6c65c542",
   "metadata": {},
   "source": [
    "## Create Business Card PDF"
   ]
  },
  {
   "cell_type": "code",
   "execution_count": 3,
   "id": "23d24e4e-7e09-4100-a332-832c6a26545c",
   "metadata": {},
   "outputs": [],
   "source": [
    "canvas = Canvas(\"mycard.pdf\", pagesize=(87.0*mm,57.0*mm))"
   ]
  },
  {
   "cell_type": "code",
   "execution_count": 4,
   "id": "ef95101e-ea7b-4b4a-9425-eda46066ad66",
   "metadata": {},
   "outputs": [],
   "source": [
    "canvas.drawString(2, 2, \"Hello, World!\")"
   ]
  },
  {
   "cell_type": "code",
   "execution_count": 5,
   "id": "b41788ad-fd53-4cfd-b466-83065519992a",
   "metadata": {},
   "outputs": [],
   "source": [
    "canvas.save()"
   ]
  },
  {
   "cell_type": "code",
   "execution_count": 115,
   "id": "3e985e33-5d17-4347-9d44-6fef68bdc243",
   "metadata": {},
   "outputs": [],
   "source": [
    "def create_pdf(card):\n",
    "    # define canvas size\n",
    "    canvas = Canvas(\"mycard.pdf\", pagesize=(87.0*mm,57.0*mm))\n",
    "    \n",
    "    # Write Name as Headline\n",
    "    canvas.setFont('Helvetica-Bold', 12)\n",
    "    canvas.drawString(2*mm, 40*mm, f'{card.person.fname} {card.person.lname}')\n",
    "\n",
    "    # Job position\n",
    "    canvas.setFont('Helvetica', 11)\n",
    "    canvas.drawString(2*mm, 35*mm, card.person.jobposition)\n",
    "    \n",
    "    canvas.save()"
   ]
  },
  {
   "cell_type": "markdown",
   "id": "dfe5132e-3cc7-4215-9a89-024f53c32851",
   "metadata": {},
   "source": [
    "## Test Case"
   ]
  },
  {
   "cell_type": "code",
   "execution_count": 116,
   "id": "c2a664aa-4894-41a0-84f6-e141b2face2c",
   "metadata": {},
   "outputs": [],
   "source": [
    "comp1 = Company(\"Dunder Mifflin\", \"dundertestthisisnotawebsite.com\")\n",
    "add1 = Address(\"Main Street\", \"Building A\", \"666\", \"Scranton\", \"PA\", \"US\")\n",
    "pers1 = Person(\"Dwight\", \"Schrute\", \"Mr.\", \"123\", None, \"d.schrute@dundertestthisisnotawebsite.com\", \"Assistant to the regional manager\")"
   ]
  },
  {
   "cell_type": "code",
   "execution_count": 117,
   "id": "20858b19-8c48-4ba3-9f4d-52b940fe1410",
   "metadata": {},
   "outputs": [
    {
     "data": {
      "text/plain": [
       "Person(fname='Dwight', lname='Schrute', salutation='Mr.', tel='123', mobile=None, email='d.schrute@dundertestthisisnotawebsite.com', jobposition='Assistant to the regional manager')"
      ]
     },
     "execution_count": 117,
     "metadata": {},
     "output_type": "execute_result"
    }
   ],
   "source": [
    "pers1"
   ]
  },
  {
   "cell_type": "code",
   "execution_count": 118,
   "id": "04adf9fc-5689-4dad-95ab-76fd418ed00b",
   "metadata": {},
   "outputs": [],
   "source": [
    "card1 = Card(pers1,comp1,add1)"
   ]
  },
  {
   "cell_type": "code",
   "execution_count": 119,
   "id": "23654bb8-3ff0-41ba-83ca-5f0b8ea0040c",
   "metadata": {},
   "outputs": [],
   "source": [
    "create_pdf(card1)"
   ]
  },
  {
   "cell_type": "code",
   "execution_count": null,
   "id": "7a4f8349-291a-42a4-84f2-966c99b13e58",
   "metadata": {},
   "outputs": [],
   "source": []
  }
 ],
 "metadata": {
  "kernelspec": {
   "display_name": "Python 3 (ipykernel)",
   "language": "python",
   "name": "python3"
  },
  "language_info": {
   "codemirror_mode": {
    "name": "ipython",
    "version": 3
   },
   "file_extension": ".py",
   "mimetype": "text/x-python",
   "name": "python",
   "nbconvert_exporter": "python",
   "pygments_lexer": "ipython3",
   "version": "3.12.4"
  }
 },
 "nbformat": 4,
 "nbformat_minor": 5
}
