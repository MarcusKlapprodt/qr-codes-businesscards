{
 "cells": [
  {
   "cell_type": "code",
   "execution_count": 7,
   "id": "4e19f142-953f-4166-bb36-a986ba2caf64",
   "metadata": {},
   "outputs": [],
   "source": [
    "from dataclasses import dataclass\n",
    "from reportlab.pdfgen.canvas import Canvas\n",
    "from reportlab.lib.units import mm\n",
    "from reportlab_qr_code import qr_draw"
   ]
  },
  {
   "cell_type": "code",
   "execution_count": 2,
   "id": "1db0d2e1-431a-4ba8-8626-d91ac48b297e",
   "metadata": {},
   "outputs": [],
   "source": [
    "@dataclass\n",
    "class Address:\n",
    "        address1: str = \"\"\n",
    "        address2: str = \"\"\n",
    "        zipcode: str = \"\"\n",
    "        city: str = \"\"\n",
    "        state: str = \"\"\n",
    "        country: str = \"\"\n",
    "\n",
    "@dataclass\n",
    "class Company:\n",
    "        cname: str\n",
    "        website: str = \"\"\n",
    "\n",
    "@dataclass    \n",
    "class Person:\n",
    "        fname: str\n",
    "        lname: str\n",
    "        salutation: str  = \"\"\n",
    "        tel: str = \"\"\n",
    "        mobile: str = \"\"\n",
    "        email: str = \"\"\n",
    "        jobposition: str = \"\"\n",
    "\n",
    "        def greet(self):\n",
    "            print(\"Hello \" + self.fname + \" \" + self.lname)\n",
    "\n",
    "@dataclass\n",
    "class Card:\n",
    "    person: Person\n",
    "    company: Company\n",
    "    address: Address\n",
    "    cardqrcode: str = \"\""
   ]
  },
  {
   "cell_type": "markdown",
   "id": "6bcf84b4-65cf-40bd-8785-9bee6c65c542",
   "metadata": {},
   "source": [
    "## Create Business Card PDF"
   ]
  },
  {
   "cell_type": "code",
   "execution_count": 39,
   "id": "3e985e33-5d17-4347-9d44-6fef68bdc243",
   "metadata": {},
   "outputs": [],
   "source": [
    "def create_pdf(card):\n",
    "    # define canvas size\n",
    "    canvas = Canvas(\"mycard.pdf\", pagesize=(87.0*mm,57.0*mm))\n",
    "    \n",
    "    # Write Name as Headline\n",
    "    canvas.setFont('Helvetica-Bold', 12)\n",
    "    canvas.drawString(4*mm, 45*mm, f'{card.person.fname} {card.person.lname}')\n",
    "\n",
    "    # Job position\n",
    "    canvas.setFont('Helvetica', 8)\n",
    "    canvas.drawString(4*mm, 40*mm, card.person.jobposition)\n",
    "\n",
    "    # Address Block\n",
    "    canvas.setFont('Helvetica', 8)\n",
    "    canvas.drawString(4*mm, 28*mm, card.company.cname)\n",
    "    canvas.drawString(4*mm, 24*mm, card.address.address1)\n",
    "    # if card.address.address2 != \"\" or \"\":\n",
    "        # canvas.drawString(4*mm, *mm, card.address.address2)\n",
    "    canvas.drawString(4*mm, 20*mm, f'{card.address.zipcode} {card.address.city} {card.address.state} {card.address.country}')\n",
    "    canvas.drawString(4*mm, 16*mm, card.person.email)\n",
    "    canvas.drawString(4*mm, 12*mm, f'tel.: {card.person.tel}')\n",
    "    if card.person.mobile != \"\":\n",
    "        canvas.drawString(4*mm, 8*mm, f'mobile: {card.person.mobile}')\n",
    "\n",
    "    ## Create the QR Code \n",
    "    qr_draw(canvas, \"Hello world\", x=\"55mm\", y=\"24mm\", size=\"30mm\")\n",
    "    \n",
    "    canvas.save()"
   ]
  },
  {
   "cell_type": "markdown",
   "id": "62206db9-17c8-40a7-be50-17ae11ed041b",
   "metadata": {},
   "source": [
    "## Get Data from Excel File"
   ]
  },
  {
   "cell_type": "markdown",
   "id": "dfe5132e-3cc7-4215-9a89-024f53c32851",
   "metadata": {},
   "source": [
    "## Test Case"
   ]
  },
  {
   "cell_type": "code",
   "execution_count": 40,
   "id": "c2a664aa-4894-41a0-84f6-e141b2face2c",
   "metadata": {},
   "outputs": [],
   "source": [
    "comp1 = Company(\"Dunder Mifflin\", \"dundertestthisisnotawebsite.com\")\n",
    "add1 = Address(\"Main Street\", \"Building A\", \"666\", \"Scranton\", \"PA\", \"US\")\n",
    "pers1 = Person(\"Dwight\", \"Schrute\", \"Mr.\", \"123\", \"\", \"d.schrute@dundertestthisisnotawebsite.com\", \"Assistant to the regional manager\")"
   ]
  },
  {
   "cell_type": "code",
   "execution_count": 41,
   "id": "04adf9fc-5689-4dad-95ab-76fd418ed00b",
   "metadata": {},
   "outputs": [],
   "source": [
    "card1 = Card(pers1,comp1,add1,\"test qr code\")"
   ]
  },
  {
   "cell_type": "code",
   "execution_count": 42,
   "id": "566ca136-4f7f-4d90-a142-bffb460c3603",
   "metadata": {},
   "outputs": [],
   "source": [
    "create_pdf(card1)"
   ]
  }
 ],
 "metadata": {
  "kernelspec": {
   "display_name": "Python 3 (ipykernel)",
   "language": "python",
   "name": "python3"
  },
  "language_info": {
   "codemirror_mode": {
    "name": "ipython",
    "version": 3
   },
   "file_extension": ".py",
   "mimetype": "text/x-python",
   "name": "python",
   "nbconvert_exporter": "python",
   "pygments_lexer": "ipython3",
   "version": "3.12.4"
  }
 },
 "nbformat": 4,
 "nbformat_minor": 5
}
