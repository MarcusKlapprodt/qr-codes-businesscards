{
 "cells": [
  {
   "cell_type": "code",
   "execution_count": 2,
   "id": "4e19f142-953f-4166-bb36-a986ba2caf64",
   "metadata": {},
   "outputs": [],
   "source": [
    "from reportlab.pdfgen.canvas import Canvas\n",
    "from reportlab.lib.units import mm"
   ]
  },
  {
   "cell_type": "code",
   "execution_count": 3,
   "id": "23d24e4e-7e09-4100-a332-832c6a26545c",
   "metadata": {},
   "outputs": [],
   "source": [
    "canvas = Canvas(\"mycard.pdf\", pagesize=(87.0*mm,57.0*mm))"
   ]
  },
  {
   "cell_type": "code",
   "execution_count": 4,
   "id": "ef95101e-ea7b-4b4a-9425-eda46066ad66",
   "metadata": {},
   "outputs": [],
   "source": [
    "canvas.drawString(2, 2, \"Hello, World!\")"
   ]
  },
  {
   "cell_type": "code",
   "execution_count": 5,
   "id": "3a59c110-5f44-400a-ba82-dd89b7777dfa",
   "metadata": {},
   "outputs": [],
   "source": [
    "# canvas.save()"
   ]
  },
  {
   "cell_type": "code",
   "execution_count": 6,
   "id": "1db0d2e1-431a-4ba8-8626-d91ac48b297e",
   "metadata": {},
   "outputs": [],
   "source": [
    "class Address:\n",
    "    def __init__(self, address1, address2, zipcode, city, country):\n",
    "        self.address1 = address1\n",
    "        self.address2 = address2\n",
    "        self.city = city\n",
    "        self.zip = zipcode\n",
    "        self.country = country\n",
    "    \n",
    "class Company:\n",
    "    def __init__(self, cname, website):\n",
    "        self.cname = cname\n",
    "        self.website = website\n",
    "    \n",
    "class Person:\n",
    "    def __init__(self, salutation, fname, lname, tel, mobile, email, jobposition):\n",
    "        self.salutation = salutation\n",
    "        self.fname = fname\n",
    "        self.lname = lname\n",
    "        self.tel = tel\n",
    "        self.mobile = mobile\n",
    "        self.email = email\n",
    "        self.jobposition = jobposition\n",
    "\n",
    "    def greet(self):\n",
    "        print(\"Hello \" + self.fname + \" \" + self.lname)"
   ]
  },
  {
   "cell_type": "code",
   "execution_count": 7,
   "id": "5771e87a-ce98-4437-bc01-bdc845106334",
   "metadata": {},
   "outputs": [
    {
     "ename": "TypeError",
     "evalue": "Person.__init__() missing 4 required positional arguments: 'tel', 'mobile', 'email', and 'jobposition'",
     "output_type": "error",
     "traceback": [
      "\u001b[0;31m---------------------------------------------------------------------------\u001b[0m",
      "\u001b[0;31mTypeError\u001b[0m                                 Traceback (most recent call last)",
      "Cell \u001b[0;32mIn[7], line 1\u001b[0m\n\u001b[0;32m----> 1\u001b[0m person1 \u001b[38;5;241m=\u001b[39m \u001b[43mPerson\u001b[49m\u001b[43m(\u001b[49m\u001b[38;5;124;43m\"\u001b[39;49m\u001b[38;5;124;43mMs\u001b[39;49m\u001b[38;5;124;43m\"\u001b[39;49m\u001b[43m,\u001b[49m\u001b[43m \u001b[49m\u001b[38;5;124;43m\"\u001b[39;49m\u001b[38;5;124;43mAlice\u001b[39;49m\u001b[38;5;124;43m\"\u001b[39;49m\u001b[43m,\u001b[49m\u001b[43m \u001b[49m\u001b[38;5;124;43m\"\u001b[39;49m\u001b[38;5;124;43mFoo\u001b[39;49m\u001b[38;5;124;43m\"\u001b[39;49m\u001b[43m)\u001b[49m\n",
      "\u001b[0;31mTypeError\u001b[0m: Person.__init__() missing 4 required positional arguments: 'tel', 'mobile', 'email', and 'jobposition'"
     ]
    }
   ],
   "source": [
    "person1 = Person(\"Ms\", \"Alice\", \"Foo\")"
   ]
  },
  {
   "cell_type": "code",
   "execution_count": 39,
   "id": "04adf9fc-5689-4dad-95ab-76fd418ed00b",
   "metadata": {},
   "outputs": [
    {
     "name": "stdout",
     "output_type": "stream",
     "text": [
      "Hello Alice\n"
     ]
    }
   ],
   "source": [
    "mcard.greet()"
   ]
  }
 ],
 "metadata": {
  "kernelspec": {
   "display_name": "Python 3 (ipykernel)",
   "language": "python",
   "name": "python3"
  },
  "language_info": {
   "codemirror_mode": {
    "name": "ipython",
    "version": 3
   },
   "file_extension": ".py",
   "mimetype": "text/x-python",
   "name": "python",
   "nbconvert_exporter": "python",
   "pygments_lexer": "ipython3",
   "version": "3.12.4"
  }
 },
 "nbformat": 4,
 "nbformat_minor": 5
}
