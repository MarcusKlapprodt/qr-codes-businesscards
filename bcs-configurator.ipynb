{
 "cells": [
  {
   "cell_type": "code",
   "execution_count": 1,
   "id": "4e19f142-953f-4166-bb36-a986ba2caf64",
   "metadata": {},
   "outputs": [],
   "source": [
    "from dataclasses import dataclass\n",
    "from reportlab.pdfgen.canvas import Canvas\n",
    "from reportlab.lib.units import mm\n",
    "from reportlab_qr_code import qr_draw\n",
    "import pandas as pd"
   ]
  },
  {
   "cell_type": "code",
   "execution_count": 2,
   "id": "1db0d2e1-431a-4ba8-8626-d91ac48b297e",
   "metadata": {},
   "outputs": [],
   "source": [
    "@dataclass\n",
    "class Address:\n",
    "        address1: str = \"\"\n",
    "        address2: str = \"\"\n",
    "        zipcode: str = \"\"\n",
    "        city: str = \"\"\n",
    "        state: str = \"\"\n",
    "        country: str = \"\"\n",
    "\n",
    "@dataclass\n",
    "class Company:\n",
    "        cname: str\n",
    "        website: str = \"\"\n",
    "\n",
    "@dataclass    \n",
    "class Person:\n",
    "        fname: str\n",
    "        lname: str\n",
    "        salutation: str  = \"\"\n",
    "        tel: str = \"\"\n",
    "        mobile: str = \"\"\n",
    "        email: str = \"\"\n",
    "        jobposition: str = \"\"\n",
    "\n",
    "        def greet(self):\n",
    "            print(\"Hello \" + self.fname + \" \" + self.lname)\n",
    "\n",
    "@dataclass\n",
    "class Card:\n",
    "    person: Person\n",
    "    company: Company\n",
    "    address: Address\n",
    "    cardqrcode: str = \"\""
   ]
  },
  {
   "cell_type": "markdown",
   "id": "6bcf84b4-65cf-40bd-8785-9bee6c65c542",
   "metadata": {},
   "source": [
    "## Create Business Card PDF"
   ]
  },
  {
   "cell_type": "code",
   "execution_count": 3,
   "id": "3e985e33-5d17-4347-9d44-6fef68bdc243",
   "metadata": {},
   "outputs": [],
   "source": [
    "def create_pdf(card):\n",
    "    # define canvas size\n",
    "    canvas = Canvas(\"mycard.pdf\", pagesize=(87.0*mm,57.0*mm))\n",
    "    \n",
    "    # Write Name as Headline\n",
    "    canvas.setFont('Helvetica-Bold', 12)\n",
    "    canvas.drawString(4*mm, 45*mm, f'{card.person.fname} {card.person.lname}')\n",
    "\n",
    "    # Job position\n",
    "    canvas.setFont('Helvetica', 8)\n",
    "    canvas.drawString(4*mm, 40*mm, card.person.jobposition)\n",
    "\n",
    "    # Address Block\n",
    "    canvas.setFont('Helvetica', 8)\n",
    "    canvas.drawString(4*mm, 28*mm, card.company.cname)\n",
    "    canvas.drawString(4*mm, 24*mm, card.address.address1)\n",
    "    # if card.address.address2 != \"\" or \"\":\n",
    "        # canvas.drawString(4*mm, *mm, card.address.address2)\n",
    "    canvas.drawString(4*mm, 20*mm, f'{card.address.zipcode} {card.address.city} {card.address.state} {card.address.country}')\n",
    "    canvas.drawString(4*mm, 16*mm, card.person.email)\n",
    "    canvas.drawString(4*mm, 12*mm, f'tel.: {card.person.tel}')\n",
    "    if card.person.mobile != \"\":\n",
    "        canvas.drawString(4*mm, 8*mm, f'mobile: {card.person.mobile}')\n",
    "\n",
    "    ## Create the QR Code \n",
    "    qr_draw(canvas, \"Hello world\", x=\"55mm\", y=\"24mm\", size=\"30mm\")\n",
    "    \n",
    "    canvas.save()"
   ]
  },
  {
   "cell_type": "markdown",
   "id": "62206db9-17c8-40a7-be50-17ae11ed041b",
   "metadata": {},
   "source": [
    "## Get Data from Excel File"
   ]
  },
  {
   "cell_type": "code",
   "execution_count": 4,
   "id": "4f58e689-90f5-4abf-8f2b-fc84e3a59d89",
   "metadata": {},
   "outputs": [],
   "source": [
    "def fetch_excelfile(file):\n",
    "    with open(file):\n",
    "        cards_file = pd.read_excel(file)\n",
    "    return cards_file"
   ]
  },
  {
   "cell_type": "code",
   "execution_count": 7,
   "id": "4654d984-03e3-43e8-8665-0ad054c9edea",
   "metadata": {},
   "outputs": [
    {
     "name": "stdout",
     "output_type": "stream",
     "text": [
      "Marcus\n",
      "Dwight\n",
      "Todd\n"
     ]
    },
    {
     "data": {
      "text/html": [
       "<div>\n",
       "<style scoped>\n",
       "    .dataframe tbody tr th:only-of-type {\n",
       "        vertical-align: middle;\n",
       "    }\n",
       "\n",
       "    .dataframe tbody tr th {\n",
       "        vertical-align: top;\n",
       "    }\n",
       "\n",
       "    .dataframe thead th {\n",
       "        text-align: right;\n",
       "    }\n",
       "</style>\n",
       "<table border=\"1\" class=\"dataframe\">\n",
       "  <thead>\n",
       "    <tr style=\"text-align: right;\">\n",
       "      <th></th>\n",
       "      <th>Username</th>\n",
       "      <th>Title</th>\n",
       "      <th>First Name</th>\n",
       "      <th>Last Name</th>\n",
       "      <th>Organization</th>\n",
       "      <th>Position</th>\n",
       "      <th>Phone</th>\n",
       "      <th>Mobile</th>\n",
       "      <th>Fax</th>\n",
       "      <th>Email</th>\n",
       "      <th>Website</th>\n",
       "      <th>Street</th>\n",
       "      <th>Street 2</th>\n",
       "      <th>P.O. Box</th>\n",
       "      <th>City</th>\n",
       "      <th>Zip Code</th>\n",
       "      <th>State</th>\n",
       "      <th>Country</th>\n",
       "      <th>Business Card URL</th>\n",
       "    </tr>\n",
       "  </thead>\n",
       "  <tbody>\n",
       "    <tr>\n",
       "      <th>0</th>\n",
       "      <td>info@snapaddy.com</td>\n",
       "      <td>NaN</td>\n",
       "      <td>Marcus</td>\n",
       "      <td>Klapprodt</td>\n",
       "      <td>snapADDY GmbH</td>\n",
       "      <td>Head of Operations</td>\n",
       "      <td>NaN</td>\n",
       "      <td>NaN</td>\n",
       "      <td>NaN</td>\n",
       "      <td>info@snapaddy.com</td>\n",
       "      <td>NaN</td>\n",
       "      <td>Haugerkirchgasse 7</td>\n",
       "      <td>NaN</td>\n",
       "      <td>NaN</td>\n",
       "      <td>Würzburg</td>\n",
       "      <td>97070</td>\n",
       "      <td>Bayern</td>\n",
       "      <td>Germany</td>\n",
       "      <td>https://business-card.io/c/0700b740-cee0-4d25-...</td>\n",
       "    </tr>\n",
       "    <tr>\n",
       "      <th>1</th>\n",
       "      <td>info@snapaddy.com</td>\n",
       "      <td>NaN</td>\n",
       "      <td>Dwight</td>\n",
       "      <td>Schrute</td>\n",
       "      <td>snapADDY GmbH</td>\n",
       "      <td>Assistant to the Regional Manager</td>\n",
       "      <td>NaN</td>\n",
       "      <td>NaN</td>\n",
       "      <td>NaN</td>\n",
       "      <td>info@snapaddy.com</td>\n",
       "      <td>NaN</td>\n",
       "      <td>Haugerkirchgasse 7</td>\n",
       "      <td>NaN</td>\n",
       "      <td>NaN</td>\n",
       "      <td>Würzburg</td>\n",
       "      <td>97070</td>\n",
       "      <td>Bayern</td>\n",
       "      <td>Germany</td>\n",
       "      <td>https://business-card.io/c/4d8565ad-45b1-4470-...</td>\n",
       "    </tr>\n",
       "    <tr>\n",
       "      <th>2</th>\n",
       "      <td>info@snapaddy.com</td>\n",
       "      <td>NaN</td>\n",
       "      <td>Todd</td>\n",
       "      <td>Chavez</td>\n",
       "      <td>snapADDY GmbH</td>\n",
       "      <td>CEO</td>\n",
       "      <td>NaN</td>\n",
       "      <td>NaN</td>\n",
       "      <td>NaN</td>\n",
       "      <td>NaN</td>\n",
       "      <td>NaN</td>\n",
       "      <td>Haugerkirchgasse 7</td>\n",
       "      <td>NaN</td>\n",
       "      <td>NaN</td>\n",
       "      <td>Würzburg</td>\n",
       "      <td>97070</td>\n",
       "      <td>Bayern</td>\n",
       "      <td>Germany</td>\n",
       "      <td>https://business-card.io/c/e60acbf0-284d-4f8b-...</td>\n",
       "    </tr>\n",
       "  </tbody>\n",
       "</table>\n",
       "</div>"
      ],
      "text/plain": [
       "            Username  Title First Name  Last Name   Organization  \\\n",
       "0  info@snapaddy.com    NaN     Marcus  Klapprodt  snapADDY GmbH   \n",
       "1  info@snapaddy.com    NaN     Dwight    Schrute  snapADDY GmbH   \n",
       "2  info@snapaddy.com    NaN       Todd     Chavez  snapADDY GmbH   \n",
       "\n",
       "                            Position  Phone  Mobile  Fax              Email  \\\n",
       "0                 Head of Operations    NaN     NaN  NaN  info@snapaddy.com   \n",
       "1  Assistant to the Regional Manager    NaN     NaN  NaN  info@snapaddy.com   \n",
       "2                                CEO    NaN     NaN  NaN                NaN   \n",
       "\n",
       "   Website              Street  Street 2  P.O. Box      City  Zip Code  \\\n",
       "0      NaN  Haugerkirchgasse 7       NaN       NaN  Würzburg     97070   \n",
       "1      NaN  Haugerkirchgasse 7       NaN       NaN  Würzburg     97070   \n",
       "2      NaN  Haugerkirchgasse 7       NaN       NaN  Würzburg     97070   \n",
       "\n",
       "    State  Country                                  Business Card URL  \n",
       "0  Bayern  Germany  https://business-card.io/c/0700b740-cee0-4d25-...  \n",
       "1  Bayern  Germany  https://business-card.io/c/4d8565ad-45b1-4470-...  \n",
       "2  Bayern  Germany  https://business-card.io/c/e60acbf0-284d-4f8b-...  "
      ]
     },
     "execution_count": 7,
     "metadata": {},
     "output_type": "execute_result"
    }
   ],
   "source": [
    "e_file = fetch_excelfile(\"example-company-cards.xlsx\")\n",
    "for index, row in e_file.iterrows():\n",
    "    print(row[\"First Name\"])\n",
    "e_file"
   ]
  },
  {
   "cell_type": "code",
   "execution_count": 16,
   "id": "8e951d83-a05a-4f45-9600-963c25494569",
   "metadata": {},
   "outputs": [],
   "source": [
    "def create_company_instance(pandas_row):\n",
    "    pdr = pandas_row\n",
    "    return Company(pdr[\"Organization\"], pdr[\"Website\"])\n",
    "\n",
    "# def create_address_instance(pandas_row):\n",
    "#     pdr = pandas_row\n",
    "#     return Address(\"Main Street\", \"Building A\", \"666\", \"Scranton\", \"PA\", \"US\")\n",
    "    # pers1 = Person(\"Dwight\", \"Schrute\", \"Mr.\", \"123\", \"\", \"d.schrute@dundertestthisisnotawebsite.com\", \"Assistant to the regional manager\")"
   ]
  },
  {
   "cell_type": "code",
   "execution_count": 17,
   "id": "c95b5da0-5e99-453a-8693-93b1732bb44b",
   "metadata": {},
   "outputs": [
    {
     "data": {
      "text/plain": [
       "Company(cname='snapADDY GmbH', website=np.float64(nan))"
      ]
     },
     "execution_count": 17,
     "metadata": {},
     "output_type": "execute_result"
    }
   ],
   "source": [
    "company_from_excel(e_file.iloc[0])"
   ]
  },
  {
   "cell_type": "markdown",
   "id": "dfe5132e-3cc7-4215-9a89-024f53c32851",
   "metadata": {},
   "source": [
    "## Test Case"
   ]
  },
  {
   "cell_type": "code",
   "execution_count": 40,
   "id": "c2a664aa-4894-41a0-84f6-e141b2face2c",
   "metadata": {},
   "outputs": [],
   "source": [
    "comp1 = Company(\"Dunder Mifflin\", \"dundertestthisisnotawebsite.com\")\n",
    "add1 = Address(\"Main Street\", \"Building A\", \"666\", \"Scranton\", \"PA\", \"US\")\n",
    "pers1 = Person(\"Dwight\", \"Schrute\", \"Mr.\", \"123\", \"\", \"d.schrute@dundertestthisisnotawebsite.com\", \"Assistant to the regional manager\")"
   ]
  },
  {
   "cell_type": "code",
   "execution_count": 41,
   "id": "04adf9fc-5689-4dad-95ab-76fd418ed00b",
   "metadata": {},
   "outputs": [],
   "source": [
    "card1 = Card(pers1,comp1,add1,\"test qr code\")"
   ]
  },
  {
   "cell_type": "code",
   "execution_count": 42,
   "id": "566ca136-4f7f-4d90-a142-bffb460c3603",
   "metadata": {},
   "outputs": [],
   "source": [
    "create_pdf(card1)"
   ]
  }
 ],
 "metadata": {
  "kernelspec": {
   "display_name": "Python 3 (ipykernel)",
   "language": "python",
   "name": "python3"
  },
  "language_info": {
   "codemirror_mode": {
    "name": "ipython",
    "version": 3
   },
   "file_extension": ".py",
   "mimetype": "text/x-python",
   "name": "python",
   "nbconvert_exporter": "python",
   "pygments_lexer": "ipython3",
   "version": "3.12.4"
  }
 },
 "nbformat": 4,
 "nbformat_minor": 5
}
