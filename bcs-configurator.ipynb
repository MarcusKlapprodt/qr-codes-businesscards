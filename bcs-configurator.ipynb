{
 "cells": [
  {
   "cell_type": "code",
   "execution_count": 3,
   "id": "4e19f142-953f-4166-bb36-a986ba2caf64",
   "metadata": {},
   "outputs": [],
   "source": [
    "from dataclasses import dataclass\n",
    "from reportlab.pdfgen.canvas import Canvas\n",
    "from reportlab.lib.units import mm"
   ]
  },
  {
   "cell_type": "code",
   "execution_count": 4,
   "id": "1db0d2e1-431a-4ba8-8626-d91ac48b297e",
   "metadata": {},
   "outputs": [],
   "source": [
    "@dataclass\n",
    "class Address:\n",
    "        address1: str = \"\"\n",
    "        address2: str = \"\"\n",
    "        zipcode: str = \"\"\n",
    "        city: str = \"\"\n",
    "        state: str = \"\"\n",
    "        country: str = \"\"\n",
    "\n",
    "@dataclass\n",
    "class Company:\n",
    "        cname: str\n",
    "        website: str = \"\"\n",
    "\n",
    "@dataclass    \n",
    "class Person:\n",
    "        fname: str\n",
    "        lname: str\n",
    "        salutation: str  = \"\"\n",
    "        tel: str = \"\"\n",
    "        mobile: str = \"\"\n",
    "        email: str = \"\"\n",
    "        jobposition: str = \"\"\n",
    "\n",
    "        def greet(self):\n",
    "            print(\"Hello \" + self.fname + \" \" + self.lname)\n",
    "\n",
    "@dataclass\n",
    "class Card:\n",
    "    person: Person\n",
    "    company: Company\n",
    "    address: Address\n",
    "    cardqrcode: str = \"\""
   ]
  },
  {
   "cell_type": "markdown",
   "id": "6bcf84b4-65cf-40bd-8785-9bee6c65c542",
   "metadata": {},
   "source": [
    "## Create Business Card PDF"
   ]
  },
  {
   "cell_type": "code",
   "execution_count": 5,
   "id": "3e985e33-5d17-4347-9d44-6fef68bdc243",
   "metadata": {},
   "outputs": [],
   "source": [
    "def create_pdf(card):\n",
    "    # define canvas size\n",
    "    canvas = Canvas(\"mycard.pdf\", pagesize=(87.0*mm,57.0*mm))\n",
    "    \n",
    "    # Write Name as Headline\n",
    "    canvas.setFont('Helvetica-Bold', 12)\n",
    "    canvas.drawString(4*mm, 45*mm, f'{card.person.fname} {card.person.lname}')\n",
    "\n",
    "    # Job position\n",
    "    canvas.setFont('Helvetica', 8)\n",
    "    canvas.drawString(4*mm, 40*mm, card.person.jobposition)\n",
    "\n",
    "    # Address Block\n",
    "    canvas.setFont('Helvetica', 8)\n",
    "    canvas.drawString(4*mm, 28*mm, card.company.cname)\n",
    "    canvas.drawString(4*mm, 24*mm, card.address.address1)\n",
    "    # if card.address.address2 != \"\" or \"\":\n",
    "        # canvas.drawString(4*mm, *mm, card.address.address2)\n",
    "    canvas.drawString(4*mm, 20*mm, f'{card.address.zipcode} {card.address.city} {card.address.state} {card.address.country}')\n",
    "    canvas.drawString(4*mm, 16*mm, card.person.email)\n",
    "    canvas.drawString(4*mm, 12*mm, f'tel.: {card.person.tel}')\n",
    "    canvas.drawString(4*mm, 8*mm, f'mobile: {card.person.mobile}')\n",
    "    \n",
    "    canvas.save()"
   ]
  },
  {
   "cell_type": "markdown",
   "id": "05ecee83-d266-486d-851a-847afa0d0240",
   "metadata": {},
   "source": [
    "## Get Values from Excel File"
   ]
  },
  {
   "cell_type": "code",
   "execution_count": null,
   "id": "258bcd71-384b-44e3-adf3-87e91753cacd",
   "metadata": {},
   "outputs": [],
   "source": []
  },
  {
   "cell_type": "markdown",
   "id": "dfe5132e-3cc7-4215-9a89-024f53c32851",
   "metadata": {},
   "source": [
    "## Test Case"
   ]
  },
  {
   "cell_type": "code",
   "execution_count": 6,
   "id": "c2a664aa-4894-41a0-84f6-e141b2face2c",
   "metadata": {},
   "outputs": [],
   "source": [
    "comp1 = Company(\"Dunder Mifflin\", \"dundertestthisisnotawebsite.com\")\n",
    "add1 = Address(\"Main Street\", \"Building A\", \"666\", \"Scranton\", \"PA\", \"US\")\n",
    "pers1 = Person(\"Dwight\", \"Schrute\", \"Mr.\", \"123\", \"\", \"d.schrute@dundertestthisisnotawebsite.com\", \"Assistant to the regional manager\")"
   ]
  },
  {
   "cell_type": "code",
   "execution_count": 8,
   "id": "04adf9fc-5689-4dad-95ab-76fd418ed00b",
   "metadata": {},
   "outputs": [],
   "source": [
    "card1 = Card(pers1,comp1,add1,\"test qr code\")"
   ]
  },
  {
   "cell_type": "code",
   "execution_count": 9,
   "id": "998b8b72-13e2-4a05-a38d-26472ce5d918",
   "metadata": {},
   "outputs": [],
   "source": [
    "create_pdf(card1)"
   ]
  }
 ],
 "metadata": {
  "kernelspec": {
   "display_name": "Python 3 (ipykernel)",
   "language": "python",
   "name": "python3"
  },
  "language_info": {
   "codemirror_mode": {
    "name": "ipython",
    "version": 3
   },
   "file_extension": ".py",
   "mimetype": "text/x-python",
   "name": "python",
   "nbconvert_exporter": "python",
   "pygments_lexer": "ipython3",
   "version": "3.12.4"
  }
 },
 "nbformat": 4,
 "nbformat_minor": 5
}
